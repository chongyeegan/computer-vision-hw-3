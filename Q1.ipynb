{
 "cells": [
  {
   "cell_type": "markdown",
   "metadata": {},
   "source": [
    "# Imports"
   ]
  },
  {
   "cell_type": "code",
   "execution_count": 2,
   "metadata": {
    "collapsed": false
   },
   "outputs": [
    {
     "name": "stderr",
     "output_type": "stream",
     "text": [
      "/Users/chongyeegan/anaconda/lib/python2.7/site-packages/IPython/kernel/__init__.py:13: ShimWarning: The `IPython.kernel` package has been deprecated. You should import from ipykernel or jupyter_client instead.\n",
      "  \"You should import from ipykernel or jupyter_client instead.\", ShimWarning)\n"
     ]
    }
   ],
   "source": [
    "# To install OpenCV: type \"conda install opencv\" on terminal \n",
    "%matplotlib notebook\n",
    "\n",
    "import numpy as np\n",
    "import matplotlib.pyplot as plt\n",
    "import matplotlib.animation as animation\n",
    "import os\n",
    "import glob\n",
    "\n",
    "from skimage.feature import corner_harris, corner_peaks\n",
    "import cv2\n",
    "\n",
    "if not os.path.exists(\"Q1\"):\n",
    "    os.makedirs(\"Q1\")"
   ]
  },
  {
   "cell_type": "markdown",
   "metadata": {},
   "source": [
    "# 1.1 - Viewing Images as Movies"
   ]
  },
  {
   "cell_type": "code",
   "execution_count": 9,
   "metadata": {
    "collapsed": true
   },
   "outputs": [],
   "source": [
    "def animate_tool(frames, interval, repeat, repeat_delay):\n",
    "    fig = plt.figure()\n",
    "    im = plt.imshow(frames[0], cmap=plt.get_cmap('gray'), vmin=0, vmax=255, animated=True)\n",
    "    \n",
    "    def updatefig(j):\n",
    "        im.set_array(frames[j])\n",
    "        return im,\n",
    "\n",
    "    ani = animation.FuncAnimation(fig, updatefig, frames=range(len(frames)), blit=True,\n",
    "                                  interval=interval, repeat=repeat, repeat_delay=repeat_delay)\n",
    "    return ani"
   ]
  },
  {
   "cell_type": "code",
   "execution_count": null,
   "metadata": {
    "collapsed": false
   },
   "outputs": [],
   "source": [
    "if __name__ == '__main__':\n",
    "    path = 'Images/Q1'\n",
    "    imagelist = []\n",
    "    \n",
    "    for filename in glob.glob(os.path.join(path, '*.bmp')): \n",
    "        im = plt.imread(filename)\n",
    "        fn = filename.split('/')[-1].split('.')[0]\n",
    "        imagelist.append((fn, im))\n",
    "\n",
    "    print imagelist\n",
    "    frames = [i[1] for i in imagelist]\n",
    "    print frames\n",
    "    \n",
    "    # kick off the animation\n",
    "    ani = animate_tool(frames, 100, True, 500)\n",
    "\n",
    "    mins = []"
   ]
  },
  {
   "cell_type": "markdown",
   "metadata": {},
   "source": [
    "# 1.2 - Harris Corner Detector "
   ]
  },
  {
   "cell_type": "code",
   "execution_count": 45,
   "metadata": {
    "collapsed": false
   },
   "outputs": [],
   "source": [
    "%matplotlib inline\n",
    "# this is skimage -- it looks like corner peaks does the filtering of repeat corners\n",
    "# however, i can't make it output 100 corners for everything. not sure if it's worth trying cv2\n",
    "# i tried a little but got confused (see comments below)\n",
    "\n",
    "if __name__ == '__main__':\n",
    "    path = 'Images/Q1'\n",
    "    imagelist = []\n",
    "\n",
    "    for filename in glob.glob(os.path.join(path, '*.bmp')): \n",
    "        im = cv2.imread(filename)\n",
    "        fn = filename.split('/')[-1].split('.')[0]\n",
    "        imagelist.append((fn, im))\n",
    "    \n",
    "    #OpenCV Method    \n",
    "    for filename, frame in imagelist:\n",
    "        gray = cv2.cvtColor(frame,cv2.COLOR_BGR2GRAY)\n",
    "        gray = np.float32(gray)\n",
    "        #dst = cv2.cornerHarris(gray,2,3,0.04)\n",
    "        #img[dst>0.01*dst.max()]=[0,0,255]\n",
    "        #cv2.imshow('dst',img)\n",
    "        corners = cv2.goodFeaturesToTrack(gray, 100, 0.01, 10)\n",
    "        corners = np.int0(corners)\n",
    "\n",
    "        for i in corners:\n",
    "            x,y = i.ravel()\n",
    "            cv2.circle(frame,(x,y),3,255,-1)\n",
    "\n",
    "        plt.imshow(frame)\n",
    "        fn = filename + '_corner.png'\n",
    "        plt.savefig('Q1/' + fn, dpi=200)\n",
    "        plt.close()\n",
    "\n",
    "        \n",
    "    ''''\n",
    "    #Skimage Method\n",
    "    for filename, frame in imagelist:    \n",
    "        ch = corner_harris(frame, k=0.04)\n",
    "        coords = corner_peaks(ch, 1, 0)\n",
    "        fig, ax = plt.subplots(ncols=1, nrows=1, figsize=(10, 10))\n",
    "\n",
    "        ax.imshow(frame, interpolation='nearest', cmap=plt.cm.gray)\n",
    "        ax.plot(coords[:, 1], coords[:, 0], '+r', markersize=15)\n",
    "        plt.axis('off')\n",
    "        fn = filename + '_corner.png'\n",
    "        plt.savefig('Q1/' + fn, dpi=200)\n",
    "        plt.close()\n",
    "    '''\n",
    "      \n"
   ]
  },
  {
   "cell_type": "code",
   "execution_count": 34,
   "metadata": {
    "collapsed": false
   },
   "outputs": [
    {
     "name": "stdout",
     "output_type": "stream",
     "text": [
      "100\n"
     ]
    }
   ],
   "source": []
  },
  {
   "cell_type": "code",
   "execution_count": null,
   "metadata": {
    "collapsed": true
   },
   "outputs": [],
   "source": []
  }
 ],
 "metadata": {
  "kernelspec": {
   "display_name": "Python 2",
   "language": "python",
   "name": "python2"
  },
  "language_info": {
   "codemirror_mode": {
    "name": "ipython",
    "version": 2
   },
   "file_extension": ".py",
   "mimetype": "text/x-python",
   "name": "python",
   "nbconvert_exporter": "python",
   "pygments_lexer": "ipython2",
   "version": "2.7.11"
  }
 },
 "nbformat": 4,
 "nbformat_minor": 0
}
