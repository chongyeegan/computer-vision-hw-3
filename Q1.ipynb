{
 "cells": [
  {
   "cell_type": "code",
   "execution_count": 10,
   "metadata": {
    "collapsed": false
   },
   "outputs": [],
   "source": [
    "%matplotlib inline\n",
    "# uncomment for video\n",
    "# %matplotlib notebook\n",
    "\n",
    "import numpy as np\n",
    "import matplotlib.pyplot as plt\n",
    "import matplotlib.animation as animation\n",
    "import os\n",
    "import glob\n",
    "\n",
    "from skimage.feature import corner_harris, corner_peaks\n",
    "import cv2\n",
    "\n",
    "if not os.path.exists(\"Q1\"):\n",
    "    os.makedirs(\"Q1\")"
   ]
  },
  {
   "cell_type": "code",
   "execution_count": 11,
   "metadata": {
    "collapsed": true
   },
   "outputs": [],
   "source": [
    "def animate_tool(frames, interval, repeat, repeat_delay):\n",
    "    fig = plt.figure()\n",
    "    im = plt.imshow(frames[0], cmap=plt.get_cmap('gray'), vmin=0, vmax=255, animated=True)\n",
    "    \n",
    "    def updatefig(j):\n",
    "        im.set_array(frames[j])\n",
    "        return im,\n",
    "\n",
    "    ani = animation.FuncAnimation(fig, updatefig, frames=range(len(frames)), blit=True,\n",
    "                                  interval=interval, repeat=repeat, repeat_delay=repeat_delay)\n",
    "    return ani"
   ]
  },
  {
   "cell_type": "code",
   "execution_count": 23,
   "metadata": {
    "collapsed": false
   },
   "outputs": [
    {
     "name": "stdout",
     "output_type": "stream",
     "text": [
      "(91, 2)\n",
      "(87, 2)\n",
      "(104, 2)\n",
      "(84, 2)\n",
      "(89, 2)\n",
      "(97, 2)\n",
      "(111, 2)\n"
     ]
    }
   ],
   "source": [
    "if __name__ == '__main__':\n",
    "    path = 'Images/Q1'\n",
    "    imagelist = []\n",
    "    \n",
    "    for filename in glob.glob(os.path.join(path, '*.bmp')): \n",
    "        im = plt.imread(filename)\n",
    "        fn = filename.split('/')[-1].split('.')[0]\n",
    "        imagelist.append((fn, im))\n",
    "\n",
    "    frames = [i[1] for i in imagelist]\n",
    "\n",
    "    # kick off the animation\n",
    "    # uncomment for video\n",
    "#     ani = animate_tool(frames, 100, False, 500)\n",
    "\n",
    "    mins = []\n",
    "    for filename, frame in imagelist:\n",
    "        \n",
    "        # this is skimage -- it looks like corner peaks does the filtering of repeat corners\n",
    "        # however, i can't make it output 100 corners for everything. not sure if it's worth trying cv2\n",
    "        # i tried a little but got confused (see comments below)\n",
    "        ch = corner_harris(frame, k=0)\n",
    "        coords = corner_peaks(ch, min_distance=1)\n",
    "        print coords.shape\n",
    "        fig, ax = plt.subplots(ncols=1, nrows=1, figsize=(10, 10))\n",
    "        \n",
    "        ax.imshow(frame, interpolation='nearest', cmap=plt.cm.gray)\n",
    "        ax.plot(coords[:, 1], coords[:, 0], '+r', markersize=15)\n",
    "        plt.axis('off')\n",
    "        fn = filename + '_corner.png'\n",
    "        plt.savefig('Q1/' + fn, dpi=200)\n",
    "        plt.close()\n",
    "\n",
    "#     img = cv2.imread('Images/Q1/car1.bmp')\n",
    "#     gray = cv2.cvtColor(img,cv2.COLOR_BGR2GRAY)\n",
    "#     ch = corner_harris(gray, k=0.04)\n",
    "#     peaks = corner_peaks(ch, min_distance=1, threshold)\n",
    "#     print peaks.shape\n",
    "\n",
    "# #     print imagelist[0][0]\n",
    "\n",
    "# #     gray = np.float32(gray)\n",
    "#     dst = cv2.cornerHarris(gray,7,3,0.04)\n",
    "#     print np.min(dst)\n",
    "#     peaks = corner_peaks(dst, min_distance=1)\n",
    "#     print peaks.shape"
   ]
  },
  {
   "cell_type": "code",
   "execution_count": null,
   "metadata": {
    "collapsed": true
   },
   "outputs": [],
   "source": []
  }
 ],
 "metadata": {
  "kernelspec": {
   "display_name": "Python 2",
   "language": "python",
   "name": "python2"
  },
  "language_info": {
   "codemirror_mode": {
    "name": "ipython",
    "version": 2
   },
   "file_extension": ".py",
   "mimetype": "text/x-python",
   "name": "python",
   "nbconvert_exporter": "python",
   "pygments_lexer": "ipython2",
   "version": "2.7.11"
  }
 },
 "nbformat": 4,
 "nbformat_minor": 0
}
